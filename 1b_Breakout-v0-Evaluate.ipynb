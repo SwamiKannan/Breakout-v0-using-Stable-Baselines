{
 "cells": [
  {
   "cell_type": "code",
   "execution_count": 1,
   "id": "7d1fa20c",
   "metadata": {},
   "outputs": [],
   "source": [
    "import os, sys\n",
    "import gc\n",
    "import matplotlib.pyplot as plt\n",
    "import numpy as np"
   ]
  },
  {
   "cell_type": "code",
   "execution_count": null,
   "id": "65a74373",
   "metadata": {},
   "outputs": [],
   "source": [
    "sys.path.append('../')\n",
    "import torch"
   ]
  },
  {
   "cell_type": "code",
   "execution_count": 3,
   "id": "c8c767df",
   "metadata": {},
   "outputs": [],
   "source": [
    "from get_algos import get_all_algos , run_experiment ,call_paths, plot_mean"
   ]
  },
  {
   "cell_type": "code",
   "execution_count": 4,
   "id": "c9fc3531",
   "metadata": {},
   "outputs": [],
   "source": [
    "import gym\n",
    "from gym.wrappers import Monitor\n",
    "from stable_baselines3 import PPO, A2C, DDPG, DQN, SAC, TD3\n",
    "from stable_baselines3.common.vec_env import VecFrameStack\n",
    "from stable_baselines3.common.evaluation import evaluate_policy\n",
    "from stable_baselines3.common.env_util import make_atari_env"
   ]
  },
  {
   "cell_type": "markdown",
   "id": "e1d33e3c",
   "metadata": {},
   "source": [
    "### 1. Explore breakout environment\n",
    "<ul>\n",
    "    <li>Explore the environment</li>\n",
    "</ul>"
   ]
  },
  {
   "cell_type": "code",
   "execution_count": 5,
   "id": "1aad3196",
   "metadata": {},
   "outputs": [],
   "source": [
    "env_name='Breakout-v0'\n",
    "env=make_atari_env(env_name)\n",
    "env=VecFrameStack(env,n_stack=6)"
   ]
  },
  {
   "cell_type": "markdown",
   "id": "54c5cdd5",
   "metadata": {},
   "source": [
    "### 2. Evaluation\n",
    "<ol>\n",
    "    <li>Create the environment</li>\n",
    "    <li>For each algorithm:</li>\n",
    "    <ol><li>Load the model</li>\n",
    "        <li>Evaluate the model for 5 sample iterations </li>\n",
    "        <li>Output the score  for each algo and each iteration</li>\n",
    "        <li>Assess stability of the model based on the variance / standard deviation </li>\n",
    "    </ol>\n",
    "    <li>Plot the corresponding scores</li>\n",
    "</ol> "
   ]
  },
  {
   "cell_type": "code",
   "execution_count": 8,
   "id": "65fae03b",
   "metadata": {},
   "outputs": [
    {
     "name": "stdout",
     "output_type": "stream",
     "text": [
      "['PPO', 'A2C', 'DQN']\n"
     ]
    }
   ],
   "source": [
    "algo_list=get_all_algos(gym.make(env_name))\n",
    "print(algo_list)"
   ]
  },
  {
   "cell_type": "code",
   "execution_count": 9,
   "id": "52178f03",
   "metadata": {},
   "outputs": [],
   "source": [
    "def evaluate_experiment(algo_list, env_name,n_steps=200000,n_episodes=100):\n",
    "    rewards_mean={}\n",
    "    rewards_std={}\n",
    "    for algo_name in reversed(algo_list):\n",
    "        env=make_atari_env(env_name)\n",
    "        env=VecFrameStack(env, n_stack=6)\n",
    "        print('******* Evaluating', algo_name,' *******')\n",
    "        device='cpu' if algo_name=='DQN' else 'cuda'\n",
    "        log_path, render_path, model_path=call_paths(algo_name,env_name,n_steps)\n",
    "        model_name=env_name+\"_\"+algo_name+\"_model\"\n",
    "        model=eval(algo_name).load(os.path.join(model_path,model_name),env,device=device)\n",
    "        mean_rew, mean_std=evaluate_policy(model,env, n_eval_episodes=n_episodes)\n",
    "        rewards_mean[algo_name]=mean_rew\n",
    "        rewards_std[algo_name]=mean_std\n",
    "        print('Mean rewards for ',n_episodes, ' episodes of ',algo_name,' is ',mean_rew,'\\n')\n",
    "        del model\n",
    "        env.close()\n",
    "    return rewards_mean,rewards_std"
   ]
  },
  {
   "cell_type": "code",
   "execution_count": 11,
   "id": "66a2bd41",
   "metadata": {},
   "outputs": [
    {
     "name": "stdout",
     "output_type": "stream",
     "text": [
      "******* Evaluating DQN  *******\n",
      "Wrapping the env in a VecTransposeImage.\n"
     ]
    },
    {
     "name": "stderr",
     "output_type": "stream",
     "text": [
      "E:\\Anaconda\\envs\\ai_gym\\lib\\site-packages\\stable_baselines3\\common\\buffers.py:229: UserWarning: This system does not have apparently enough memory to store the complete replay buffer 84.69GB > 11.52GB\n",
      "  \"This system does not have apparently enough memory to store the complete \"\n"
     ]
    },
    {
     "name": "stdout",
     "output_type": "stream",
     "text": [
      "Mean rewards for  100  episodes of  DQN  is  9.13 \n",
      "\n",
      "******* Evaluating A2C  *******\n",
      "Wrapping the env in a VecTransposeImage.\n",
      "Mean rewards for  100  episodes of  A2C  is  8.62 \n",
      "\n",
      "******* Evaluating PPO  *******\n",
      "Wrapping the env in a VecTransposeImage.\n",
      "Mean rewards for  100  episodes of  PPO  is  7.93 \n",
      "\n"
     ]
    }
   ],
   "source": [
    "rewards=evaluate_experiment(algo_list, env_name)"
   ]
  },
  {
   "cell_type": "code",
   "execution_count": 12,
   "id": "0a4d7aa0",
   "metadata": {},
   "outputs": [
    {
     "data": {
      "image/png": "[encoded data removed]",
      "text/plain": [
       "<Figure size 432x288 with 1 Axes>"
      ]
     },
     "metadata": {
      "needs_background": "light"
     },
     "output_type": "display_data"
    }
   ],
   "source": [
    "plot_mean(rewards[0],'mean rewards')"
   ]
  },
  {
   "cell_type": "code",
   "execution_count": 13,
   "id": "46b5aa97",
   "metadata": {},
   "outputs": [
    {
     "data": {
      "image/png": "[encoded data removed]",
      "text/plain": [
       "<Figure size 432x288 with 1 Axes>"
      ]
     },
     "metadata": {
      "needs_background": "light"
     },
     "output_type": "display_data"
    }
   ],
   "source": [
    "plot_mean(rewards[1],'std deviation')"
   ]
  },
  {
   "cell_type": "markdown",
   "id": "719d552f",
   "metadata": {},
   "source": [
    "Hence, we see that while DQN has the highest average reward, it also has the second highest standard deviation:\n",
    "<ol><li> 6% higher reward than A2C but 0.96 the std deviation </li>\n",
    "    <li>15% higher reward than PPO but 122% the std deviation </li>\n",
    "    <li> Similarly, A2C has 9% higher reward than PPO but 1.3X its std deviation </li>"
   ]
  }
 ],
 "metadata": {
  "kernelspec": {
   "display_name": "Python 3 (ipykernel)",
   "language": "python",
   "name": "python3"
  },
  "language_info": {
   "codemirror_mode": {
    "name": "ipython",
    "version": 3
   },
   "file_extension": ".py",
   "mimetype": "text/x-python",
   "name": "python",
   "nbconvert_exporter": "python",
   "pygments_lexer": "ipython3",
   "version": "3.7.0"
  }
 },
 "nbformat": 4,
 "nbformat_minor": 5
}
