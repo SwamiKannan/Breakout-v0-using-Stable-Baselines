{
 "cells": [
  {
   "cell_type": "code",
   "execution_count": 1,
   "id": "7d1fa20c",
   "metadata": {},
   "outputs": [],
   "source": [
    "import os, sys\n",
    "import gc\n",
    "import matplotlib.pyplot as plt\n",
    "import numpy as np"
   ]
  },
  {
   "cell_type": "code",
   "execution_count": null,
   "id": "bb837082",
   "metadata": {},
   "outputs": [],
   "source": [
    "sys.path.append('../')\n",
    "import torch"
   ]
  },
  {
   "cell_type": "code",
   "execution_count": 2,
   "id": "c8c767df",
   "metadata": {},
   "outputs": [],
   "source": [
    "from get_algos import get_all_algos , run_experiment ,call_paths, plot_mean"
   ]
  },
  {
   "cell_type": "code",
   "execution_count": 3,
   "id": "c9fc3531",
   "metadata": {},
   "outputs": [],
   "source": [
    "import gym\n",
    "from gym.wrappers import Monitor\n",
    "from sb3_contrib import RecurrentPPO\n",
    "from stable_baselines3 import PPO\n",
    "from stable_baselines3.common.vec_env import VecFrameStack\n",
    "from stable_baselines3.common.evaluation import evaluate_policy\n",
    "from stable_baselines3.common.env_util import make_atari_env"
   ]
  },
  {
   "cell_type": "code",
   "execution_count": 4,
   "id": "5f7370b2",
   "metadata": {},
   "outputs": [],
   "source": [
    "env_name='Breakout-v0'"
   ]
  },
  {
   "cell_type": "markdown",
   "id": "54c5cdd5",
   "metadata": {},
   "source": [
    "### 2. Evaluation\n",
    "<ol>\n",
    "    <li>Create the environment</li>\n",
    "    <li>For each algorithm:</li>\n",
    "    <ol><li>Load the model</li>\n",
    "        <li>Evaluate the model for 5 sample iterations </li>\n",
    "        <li>Output the score  for each algo and each iteration</li>\n",
    "        <li>Assess stability of the model based on the variance / standard deviation </li>\n",
    "    </ol>\n",
    "    <li>Plot the corresponding scores</li>\n",
    "</ol> "
   ]
  },
  {
   "cell_type": "code",
   "execution_count": 8,
   "id": "65fae03b",
   "metadata": {},
   "outputs": [],
   "source": [
    "algo_list=['PPO','RecurrentPPO']"
   ]
  },
  {
   "cell_type": "code",
   "execution_count": 9,
   "id": "52178f03",
   "metadata": {},
   "outputs": [],
   "source": [
    "def evaluate_experiment(algo_list, env_name,n_steps=200000,n_episodes=100):\n",
    "    rewards_mean={}\n",
    "    rewards_std={}\n",
    "    for algo_name in reversed(algo_list):\n",
    "        if algo_name =='QRDQN' or 'TRPO':\n",
    "            device='cpu'\n",
    "        else:\n",
    "            device='cuda' #GPU was unable to load the entire experience relay so moved to virtual memory on disk\n",
    "        policy='CnnLstmPolicy' if algo_name=='RecurrentPPO' else 'CnnPolicy'   \n",
    "        env=make_atari_env(env_name,n_envs=6)\n",
    "        env=VecFrameStack(env, n_stack=6)\n",
    "        print('******* Evaluating', algo_name,' *******')\n",
    "        log_path, render_path, model_path=call_paths(algo_name,env_name,n_steps)\n",
    "        model_name=env_name+\"_\"+algo_name+\"_model\"\n",
    "        model=eval(algo_name).load(os.path.join(model_path,model_name),env,device=device)\n",
    "        mean_rew, mean_std=evaluate_policy(model,env, n_eval_episodes=n_episodes)\n",
    "        rewards_mean[algo_name]=mean_rew\n",
    "        rewards_std[algo_name]=mean_std\n",
    "        print('Mean rewards for ',n_episodes, ' episodes of ',algo_name,' is ',mean_rew,'\\n')\n",
    "        del model\n",
    "        env.close()\n",
    "    return rewards_mean,rewards_std"
   ]
  },
  {
   "cell_type": "code",
   "execution_count": 10,
   "id": "66a2bd41",
   "metadata": {},
   "outputs": [
    {
     "name": "stdout",
     "output_type": "stream",
     "text": [
      "******* Evaluating RecurrentPPO  *******\n",
      "Mean rewards for  100  episodes of  RecurrentPPO  is  3.46 \n",
      "\n",
      "******* Evaluating PPO  *******\n",
      "Mean rewards for  100  episodes of  PPO  is  12.41 \n",
      "\n"
     ]
    }
   ],
   "source": [
    "rewards=evaluate_experiment(algo_list, env_name,n_steps=5000000)"
   ]
  },
  {
   "cell_type": "code",
   "execution_count": 11,
   "id": "0a4d7aa0",
   "metadata": {},
   "outputs": [
    {
     "data": {
      "image/png": "[encoded data removed]",
      "text/plain": [
       "<Figure size 432x288 with 1 Axes>"
      ]
     },
     "metadata": {
      "needs_background": "light"
     },
     "output_type": "display_data"
    }
   ],
   "source": [
    "plot_mean(rewards[0],'mean rewards')"
   ]
  },
  {
   "cell_type": "code",
   "execution_count": 12,
   "id": "46b5aa97",
   "metadata": {},
   "outputs": [
    {
     "data": {
      "image/png": "[encoded data removed]",
      "text/plain": [
       "<Figure size 432x288 with 1 Axes>"
      ]
     },
     "metadata": {
      "needs_background": "light"
     },
     "output_type": "display_data"
    }
   ],
   "source": [
    "plot_mean(rewards[1],'std deviation')"
   ]
  }
 ],
 "metadata": {
  "kernelspec": {
   "display_name": "Python 3 (ipykernel)",
   "language": "python",
   "name": "python3"
  },
  "language_info": {
   "codemirror_mode": {
    "name": "ipython",
    "version": 3
   },
   "file_extension": ".py",
   "mimetype": "text/x-python",
   "name": "python",
   "nbconvert_exporter": "python",
   "pygments_lexer": "ipython3",
   "version": "3.7.0"
  }
 },
 "nbformat": 4,
 "nbformat_minor": 5
}
