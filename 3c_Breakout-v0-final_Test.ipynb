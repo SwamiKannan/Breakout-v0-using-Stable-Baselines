{
 "cells": [
  {
   "cell_type": "code",
   "execution_count": 1,
   "id": "7d1fa20c",
   "metadata": {},
   "outputs": [],
   "source": [
    "import os, sys\n",
    "import gc\n",
    "import matplotlib.pyplot as plt\n",
    "import numpy as np"
   ]
  },
  {
   "cell_type": "code",
   "execution_count": null,
   "id": "db524d19",
   "metadata": {},
   "outputs": [],
   "source": [
    "sys.path.append('../')\n",
    "import torch"
   ]
  },
  {
   "cell_type": "code",
   "execution_count": 3,
   "id": "c8c767df",
   "metadata": {},
   "outputs": [],
   "source": [
    "from get_algos import get_all_algos , run_experiment ,call_paths, plot_mean"
   ]
  },
  {
   "cell_type": "code",
   "execution_count": 4,
   "id": "c9fc3531",
   "metadata": {},
   "outputs": [],
   "source": [
    "import gym\n",
    "from sb3_contrib import RecurrentPPO\n",
    "from gym.wrappers.monitor import Monitor\n",
    "from stable_baselines3 import PPO\n",
    "from stable_baselines3.common.vec_env import VecFrameStack,VecVideoRecorder\n",
    "from stable_baselines3.common.evaluation import evaluate_policy\n",
    "from stable_baselines3.common.env_util import make_atari_env"
   ]
  },
  {
   "cell_type": "code",
   "execution_count": 5,
   "id": "ed55ba4d",
   "metadata": {},
   "outputs": [],
   "source": [
    "env_name='Breakout-v0'"
   ]
  },
  {
   "cell_type": "markdown",
   "id": "54c5cdd5",
   "metadata": {},
   "source": [
    "### 1. Test\n",
    "<ol>\n",
    "    <li>Create the environment</li>\n",
    "    <li>For each algorithm:</li>\n",
    "    <ol><li>Load the model</li>\n",
    "        <li>Evaluate the model for 5 sample iterations </li>\n",
    "        <li>Output the score  for each algo and each iteration</li>\n",
    "        <li>Render the video and store it </li>\n",
    "    </ol>\n",
    "</ol> "
   ]
  },
  {
   "cell_type": "code",
   "execution_count": 6,
   "id": "65fae03b",
   "metadata": {},
   "outputs": [],
   "source": [
    "algo_list=['PPO','RecurrentPPO']"
   ]
  },
  {
   "cell_type": "markdown",
   "id": "7e8fab60",
   "metadata": {},
   "source": [
    "### 3. Testing"
   ]
  },
  {
   "cell_type": "code",
   "execution_count": 12,
   "id": "972110da",
   "metadata": {},
   "outputs": [],
   "source": [
    "def testing_model(algo_list, env_name,n_steps,vid_length):\n",
    "    total_rewards={}\n",
    "    for algo_name in reversed(algo_list):\n",
    "        algo_rewards=[]\n",
    "        if algo_name =='QRDQN' or 'TRPO':\n",
    "            device='cpu'\n",
    "        else:\n",
    "            device='cuda' #GPU was unable to load the entire experience relay so moved to virtual memory on disk\n",
    "        policy='CnnLstmPolicy' if algo_name=='RecurrentPPO' else 'CnnPolicy'\n",
    "        log_path, render_path, model_path=call_paths(algo_name,env_name,n_steps)\n",
    "        env=VecVideoRecorder(VecFrameStack(make_atari_env(env_name,monitor_dir=render_path),n_stack=6),render_path,record_video_trigger=lambda step: step == 0,video_length=vid_length)\n",
    "        model_name=env_name+\"_\"+algo_name+\"_model\"\n",
    "        model=eval(algo_name).load(os.path.join(model_path, model_name),env,device=device)\n",
    "        for i in range(5):\n",
    "            state=env.reset()\n",
    "            epi_rewards=0\n",
    "            while True:\n",
    "                action,_=model.predict(state)\n",
    "                state,reward,done,_=env.step(action)\n",
    "                epi_rewards+=reward[0]\n",
    "                env.render()\n",
    "                if done:\n",
    "                    algo_rewards.append(epi_rewards)\n",
    "                    break\n",
    "        total_rewards[algo_name]=algo_rewards\n",
    "        del model\n",
    "        env.close()\n",
    "    return total_rewards"
   ]
  },
  {
   "cell_type": "code",
   "execution_count": 13,
   "id": "86523f39",
   "metadata": {},
   "outputs": [],
   "source": [
    "total_rewards=testing_model(algo_list, env_name,n_steps=5000000,vid_length=1000)"
   ]
  },
  {
   "cell_type": "code",
   "execution_count": 17,
   "id": "4f3794bb",
   "metadata": {},
   "outputs": [],
   "source": [
    "rand_env_reward={}\n",
    "for algo in reversed(algo_list):\n",
    "    render_path_random=os.path.join(env_name,algo+'_'+'5000000','render','random')\n",
    "    env=Monitor(gym.make(env_name),directory=render_path_random,force=True)\n",
    "    total_rewards=[]\n",
    "    for i in range(5):\n",
    "        epi_rewards=0\n",
    "        env.reset()\n",
    "        while True:\n",
    "            action=env.action_space.sample()\n",
    "            _,rewards,done,_=env.step(action)\n",
    "            epi_rewards+=rewards\n",
    "            env.render()\n",
    "            if done:\n",
    "                total_rewards.append(epi_rewards)\n",
    "                break\n",
    "    env.close()\n",
    "    rand_env_reward[algo]=total_rewards         "
   ]
  }
 ],
 "metadata": {
  "kernelspec": {
   "display_name": "Python 3 (ipykernel)",
   "language": "python",
   "name": "python3"
  },
  "language_info": {
   "codemirror_mode": {
    "name": "ipython",
    "version": 3
   },
   "file_extension": ".py",
   "mimetype": "text/x-python",
   "name": "python",
   "nbconvert_exporter": "python",
   "pygments_lexer": "ipython3",
   "version": "3.7.0"
  }
 },
 "nbformat": 4,
 "nbformat_minor": 5
}
