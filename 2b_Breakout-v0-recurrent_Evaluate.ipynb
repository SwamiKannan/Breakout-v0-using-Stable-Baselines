{
 "cells": [
  {
   "cell_type": "code",
   "execution_count": 1,
   "id": "7d1fa20c",
   "metadata": {},
   "outputs": [],
   "source": [
    "import os, sys\n",
    "import gc\n",
    "import matplotlib.pyplot as plt\n",
    "import numpy as np"
   ]
  },
  {
   "cell_type": "code",
   "execution_count": null,
   "id": "83d1313d",
   "metadata": {},
   "outputs": [],
   "source": [
    "sys.path.append('../')\n",
    "import torch"
   ]
  },
  {
   "cell_type": "code",
   "execution_count": 2,
   "id": "c8c767df",
   "metadata": {},
   "outputs": [],
   "source": [
    "from get_algos import get_all_algos , run_experiment ,call_paths, plot_mean"
   ]
  },
  {
   "cell_type": "code",
   "execution_count": 3,
   "id": "c9fc3531",
   "metadata": {},
   "outputs": [],
   "source": [
    "import gym\n",
    "from gym.wrappers import Monitor\n",
    "from sb3_contrib import QRDQN ,RecurrentPPO, TRPO \n",
    "from stable_baselines3.common.vec_env import VecFrameStack\n",
    "from stable_baselines3.common.evaluation import evaluate_policy\n",
    "from stable_baselines3.common.env_util import make_atari_env"
   ]
  },
  {
   "cell_type": "code",
   "execution_count": 4,
   "id": "5f7370b2",
   "metadata": {},
   "outputs": [],
   "source": [
    "env_name='Breakout-v0'"
   ]
  },
  {
   "cell_type": "markdown",
   "id": "54c5cdd5",
   "metadata": {},
   "source": [
    "### 2. Evaluation\n",
    "<ol>\n",
    "    <li>Create the environment</li>\n",
    "    <li>For each algorithm:</li>\n",
    "    <ol><li>Load the model</li>\n",
    "        <li>Evaluate the model for 5 sample iterations </li>\n",
    "        <li>Output the score  for each algo and each iteration</li>\n",
    "        <li>Assess stability of the model based on the variance / standard deviation </li>\n",
    "    </ol>\n",
    "    <li>Plot the corresponding scores</li>\n",
    "</ol> "
   ]
  },
  {
   "cell_type": "code",
   "execution_count": 5,
   "id": "65fae03b",
   "metadata": {},
   "outputs": [
    {
     "name": "stdout",
     "output_type": "stream",
     "text": [
      "['QRDQN', 'RecurrentPPO', 'TRPO']\n"
     ]
    }
   ],
   "source": [
    "env_recurrent_type={'Discrete':['MaskablePPO', 'QRDQN', 'RecurrentPPO', 'TRPO'],'Box':['ARS', 'RecurrentPPO', 'TQC', 'TRPO'], \n",
    "                    'MultiDiscrete':['MaskablePPO', 'RecurrentPPO', 'TRPO'],'MultiBinary':['MaskablePPO', 'RecurrentPPO', 'TRPO']}\n",
    "def get_algo_recurrent(env):\n",
    "    act_space=str(type(env.action_space)).split('.')[3].split(\"'\")[0]\n",
    "    return env_recurrent_type[act_space]\n",
    "\n",
    "algo_list=get_algo_recurrent(gym.make(env_name))\n",
    "algo_list.remove('MaskablePPO') if 'MaskablePPO' in algo_list else algo_list\n",
    "print(algo_list)"
   ]
  },
  {
   "cell_type": "code",
   "execution_count": 6,
   "id": "52178f03",
   "metadata": {},
   "outputs": [],
   "source": [
    "def evaluate_experiment(algo_list, env_name,n_steps=200000,n_episodes=100):\n",
    "    rewards_mean={}\n",
    "    rewards_std={}\n",
    "    for algo_name in reversed(algo_list):\n",
    "        if algo_name =='QRDQN' or 'TRPO':\n",
    "            device='cpu'\n",
    "        else:\n",
    "            device='cuda' #GPU was unable to load the entire experience relay so moved to virtual memory on disk\n",
    "        policy='CnnLstmPolicy' if algo_name=='RecurrentPPO' else 'CnnPolicy'   \n",
    "        env=make_atari_env(env_name,n_envs=6)\n",
    "        env=VecFrameStack(env, n_stack=6)\n",
    "        print('******* Evaluating', algo_name,' *******')\n",
    "        log_path, render_path, model_path=call_paths(algo_name,env_name,n_steps)\n",
    "        model_name=env_name+\"_\"+algo_name+\"_model\"\n",
    "        model=eval(algo_name).load(os.path.join(model_path,model_name),env,device=device)\n",
    "        mean_rew, mean_std=evaluate_policy(model,env, n_eval_episodes=n_episodes)\n",
    "        rewards_mean[algo_name]=mean_rew\n",
    "        rewards_std[algo_name]=mean_std\n",
    "        print('Mean rewards for ',n_episodes, ' episodes of ',algo_name,' is ',mean_rew,'\\n')\n",
    "        del model\n",
    "        env.close()\n",
    "    return rewards_mean,rewards_std"
   ]
  },
  {
   "cell_type": "code",
   "execution_count": 7,
   "id": "66a2bd41",
   "metadata": {},
   "outputs": [
    {
     "name": "stdout",
     "output_type": "stream",
     "text": [
      "******* Evaluating TRPO  *******\n",
      "Wrapping the env in a VecTransposeImage.\n",
      "Mean rewards for  100  episodes of  TRPO  is  2.06 \n",
      "\n",
      "******* Evaluating RecurrentPPO  *******\n",
      "Wrapping the env in a VecTransposeImage.\n",
      "Mean rewards for  100  episodes of  RecurrentPPO  is  4.39 \n",
      "\n",
      "******* Evaluating QRDQN  *******\n",
      "Wrapping the env in a VecTransposeImage.\n"
     ]
    },
    {
     "name": "stderr",
     "output_type": "stream",
     "text": [
      "E:\\Anaconda\\envs\\ai_gym\\lib\\site-packages\\stable_baselines3\\common\\buffers.py:229: UserWarning: This system does not have apparently enough memory to store the complete replay buffer 84.69GB > 10.70GB\n",
      "  \"This system does not have apparently enough memory to store the complete \"\n"
     ]
    },
    {
     "name": "stdout",
     "output_type": "stream",
     "text": [
      "Mean rewards for  100  episodes of  QRDQN  is  2.12 \n",
      "\n"
     ]
    }
   ],
   "source": [
    "rewards=evaluate_experiment(algo_list, env_name)"
   ]
  },
  {
   "cell_type": "code",
   "execution_count": 8,
   "id": "0a4d7aa0",
   "metadata": {},
   "outputs": [
    {
     "data": {
      "image/png": "[encoded data removed]",
      "text/plain": [
       "<Figure size 432x288 with 1 Axes>"
      ]
     },
     "metadata": {
      "needs_background": "light"
     },
     "output_type": "display_data"
    }
   ],
   "source": [
    "plot_mean(rewards[0],'mean rewards')"
   ]
  },
  {
   "cell_type": "code",
   "execution_count": 9,
   "id": "46b5aa97",
   "metadata": {},
   "outputs": [
    {
     "data": {
      "image/png": "[encoded data removed]",
      "text/plain": [
       "<Figure size 432x288 with 1 Axes>"
      ]
     },
     "metadata": {
      "needs_background": "light"
     },
     "output_type": "display_data"
    }
   ],
   "source": [
    "plot_mean(rewards[1],'std deviation')"
   ]
  },
  {
   "cell_type": "markdown",
   "id": "719d552f",
   "metadata": {},
   "source": [
    "Hence, we see that:\n",
    "<ol><li> RecurrentPPO has the highest rewards (2.1x TRPO and 2x QRDQN)  </li>\n",
    "    <li> It also has the highest std deviation (1.8x TRPO and 2X QRDQN) </li>\n",
    "    <li> Similarly, A2C has 9% higher reward than PPO but 1.3X its std deviation </li>\n",
    "    \n",
    "<b>Given that ReccurrentPPO seems to be the highest rewards we will use it for the next set of 5,000,000 steps"
   ]
  }
 ],
 "metadata": {
  "kernelspec": {
   "display_name": "Python 3 (ipykernel)",
   "language": "python",
   "name": "python3"
  },
  "language_info": {
   "codemirror_mode": {
    "name": "ipython",
    "version": 3
   },
   "file_extension": ".py",
   "mimetype": "text/x-python",
   "name": "python",
   "nbconvert_exporter": "python",
   "pygments_lexer": "ipython3",
   "version": "3.7.0"
  }
 },
 "nbformat": 4,
 "nbformat_minor": 5
}
